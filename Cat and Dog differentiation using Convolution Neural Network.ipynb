{
 "cells": [
  {
   "cell_type": "code",
   "execution_count": 1,
   "id": "99ae86c8",
   "metadata": {},
   "outputs": [],
   "source": [
    "#importing the keras libraries and packages\n",
    "from keras.models import Sequential\n",
    "from keras.layers import Conv2D\n",
    "from keras.layers import MaxPooling2D\n",
    "from keras.layers import Flatten\n",
    "from keras.layers import Dense"
   ]
  },
  {
   "cell_type": "code",
   "execution_count": 2,
   "id": "9b428d53",
   "metadata": {},
   "outputs": [],
   "source": [
    "#Initializing the CNN\n",
    "classifier = Sequential()"
   ]
  },
  {
   "cell_type": "code",
   "execution_count": 3,
   "id": "4d6cf91d",
   "metadata": {},
   "outputs": [],
   "source": [
    "#convolution\n",
    "#adding the first convolution layer\n",
    "classifier.add(Conv2D(32, (3,3), input_shape = (64,64,3), activation = 'relu'))\n",
    "#adding the second convolution layer\n",
    "classifier.add(Conv2D(32, (3,3), activation= \"relu\"))\n",
    "classifier.add(MaxPooling2D(pool_size = (2,2)))\n"
   ]
  },
  {
   "cell_type": "code",
   "execution_count": 4,
   "id": "33cc2a23",
   "metadata": {},
   "outputs": [],
   "source": [
    "#Flattening\n",
    "classifier.add(Flatten())\n",
    "#Full connection\n",
    "classifier.add(Dense(units = 128, activation = 'relu'))\n",
    "classifier.add(Dense(units = 1, activation = 'sigmoid'))\n",
    "#Compiling the CNN\n",
    "classifier.compile(optimizer = 'adam', loss='binary_crossentropy', metrics= ['accuracy'])"
   ]
  },
  {
   "cell_type": "code",
   "execution_count": 5,
   "id": "18199fb0",
   "metadata": {},
   "outputs": [],
   "source": [
    "#Fitting the CNN to the images\n",
    "from keras.preprocessing.image import ImageDataGenerator\n",
    "train_datagen = ImageDataGenerator(rescale = 1./255, shear_range=0.2, zoom_range= 0.2, horizontal_flip= True)\n"
   ]
  },
  {
   "cell_type": "code",
   "execution_count": 6,
   "id": "611608b1",
   "metadata": {},
   "outputs": [
    {
     "name": "stdout",
     "output_type": "stream",
     "text": [
      "Found 25000 images belonging to 1 classes.\n"
     ]
    }
   ],
   "source": [
    "training_set = train_datagen.flow_from_directory(r'C:\\Users\\hp\\dataset\\train',\n",
    "                                                 target_size = (64,64),\n",
    "                                                 batch_size=32, \n",
    "                                                 class_mode= 'binary')"
   ]
  },
  {
   "cell_type": "code",
   "execution_count": 7,
   "id": "0ff9426e",
   "metadata": {},
   "outputs": [
    {
     "name": "stdout",
     "output_type": "stream",
     "text": [
      "Found 12500 images belonging to 1 classes.\n"
     ]
    }
   ],
   "source": [
    "test_datagen = ImageDataGenerator(rescale = 1./255)\n",
    "test_set = test_datagen.flow_from_directory(r'C:\\Users\\hp\\dataset\\test1',\n",
    "                                                 target_size = (64,64),\n",
    "                                                 batch_size=32, \n",
    "                                                 class_mode= 'binary')"
   ]
  },
  {
   "cell_type": "code",
   "execution_count": 8,
   "id": "0a3f7b86",
   "metadata": {},
   "outputs": [
    {
     "name": "stderr",
     "output_type": "stream",
     "text": [
      "C:\\Users\\hp\\anaconda3\\envs\\tensorflow\\lib\\site-packages\\keras\\engine\\training.py:1972: UserWarning: `Model.fit_generator` is deprecated and will be removed in a future version. Please use `Model.fit`, which supports generators.\n",
      "  warnings.warn('`Model.fit_generator` is deprecated and '\n"
     ]
    },
    {
     "name": "stdout",
     "output_type": "stream",
     "text": [
      "Epoch 1/10\n",
      "200/200 [==============================] - ETA: 0s - loss: 0.0037 - accuracy: 0.9951WARNING:tensorflow:Your input ran out of data; interrupting training. Make sure that your dataset or generator can generate at least `steps_per_epoch * epochs` batches (in this case, 500 batches). You may need to use the repeat() function when building your dataset.\n",
      "200/200 [==============================] - 481s 2s/step - loss: 0.0037 - accuracy: 0.9951 - val_loss: 5.7241e-13 - val_accuracy: 1.0000\n",
      "Epoch 2/10\n",
      "200/200 [==============================] - 134s 671ms/step - loss: 1.9682e-12 - accuracy: 1.0000\n",
      "Epoch 3/10\n",
      "200/200 [==============================] - 117s 585ms/step - loss: 2.3414e-13 - accuracy: 1.0000\n",
      "Epoch 4/10\n",
      "200/200 [==============================] - 96s 482ms/step - loss: 7.3967e-14 - accuracy: 1.0000\n",
      "Epoch 5/10\n",
      "200/200 [==============================] - 85s 427ms/step - loss: 7.1269e-12 - accuracy: 1.0000\n",
      "Epoch 6/10\n",
      "200/200 [==============================] - 80s 397ms/step - loss: 4.3777e-13 - accuracy: 1.0000\n",
      "Epoch 7/10\n",
      "200/200 [==============================] - 78s 386ms/step - loss: 7.1902e-14 - accuracy: 1.0000\n",
      "Epoch 8/10\n",
      "200/200 [==============================] - 77s 382ms/step - loss: 1.2587e-12 - accuracy: 1.0000\n",
      "Epoch 9/10\n",
      "200/200 [==============================] - 80s 401ms/step - loss: 5.9813e-13 - accuracy: 1.0000\n",
      "Epoch 10/10\n",
      "200/200 [==============================] - 74s 370ms/step - loss: 3.5008e-12 - accuracy: 1.0000\n"
     ]
    },
    {
     "data": {
      "text/plain": [
       "<keras.callbacks.History at 0x197580c4e50>"
      ]
     },
     "execution_count": 8,
     "metadata": {},
     "output_type": "execute_result"
    }
   ],
   "source": [
    "classifier.fit_generator(training_set, steps_per_epoch = 200, \n",
    "                         epochs = 10, validation_data = test_set,\n",
    "                         validation_steps = 500)"
   ]
  },
  {
   "cell_type": "code",
   "execution_count": 10,
   "id": "3d6d09eb",
   "metadata": {},
   "outputs": [
    {
     "name": "stdout",
     "output_type": "stream",
     "text": [
      "[[0.]]\n",
      "cat\n"
     ]
    }
   ],
   "source": [
    "import numpy as np\n",
    "from keras.preprocessing import image\n",
    "\n",
    "test_image = image.load_img('cat.8976.jpg',\n",
    "                           target_size = (64,64))\n",
    "test_image = image.img_to_array(test_image)\n",
    "test_image = np.expand_dims(test_image, axis=0)\n",
    "result = classifier.predict(test_image)\n",
    "print(result)\n",
    "training_set.class_indices\n",
    "if result[0][0] ==1:\n",
    "    prediction = 'dog'\n",
    "else:\n",
    "    prediction = 'cat'\n",
    "print(prediction)"
   ]
  }
 ],
 "metadata": {
  "kernelspec": {
   "display_name": "Python 3 (ipykernel)",
   "language": "python",
   "name": "python3"
  },
  "language_info": {
   "codemirror_mode": {
    "name": "ipython",
    "version": 3
   },
   "file_extension": ".py",
   "mimetype": "text/x-python",
   "name": "python",
   "nbconvert_exporter": "python",
   "pygments_lexer": "ipython3",
   "version": "3.9.12"
  }
 },
 "nbformat": 4,
 "nbformat_minor": 5
}
